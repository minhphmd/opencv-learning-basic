{
  "nbformat": 4,
  "nbformat_minor": 0,
  "metadata": {
    "colab": {
      "provenance": []
    },
    "kernelspec": {
      "name": "python3",
      "display_name": "Python 3"
    },
    "language_info": {
      "name": "python"
    }
  },
  "cells": [
    {
      "cell_type": "code",
      "execution_count": 1,
      "metadata": {
        "id": "H-ZrtMqNxZ9X"
      },
      "outputs": [],
      "source": [
        "import torch\n",
        "import matplotlib.pyplot as plt\n",
        "from torchvision import datasets\n",
        "from torchvision.transforms import ToTensor\n",
        "from torch import nn\n",
        "from torch.utils.data import DataLoader"
      ]
    },
    {
      "cell_type": "code",
      "source": [
        "print(torch.__version__)\n",
        "print(torch.cuda.is_available())"
      ],
      "metadata": {
        "colab": {
          "base_uri": "https://localhost:8080/"
        },
        "id": "SrtDIo79yHiR",
        "outputId": "0ead90bc-d8dc-492e-a810-82630295410a"
      },
      "execution_count": 2,
      "outputs": [
        {
          "output_type": "stream",
          "name": "stdout",
          "text": [
            "2.3.0+cu121\n",
            "False\n"
          ]
        }
      ]
    },
    {
      "cell_type": "markdown",
      "source": [
        "## Chuẩn bị dữ liệu\n",
        "\n",
        "Bài toán phân loại ảnh trang phục hàng ngày, sử dụng bộ dữ liệu Fashion MNIST. Bộ dữ liệu này tương tự MNIST gồm các ảnh đen trắng (grayscale) kích thước $28 \\times 28$, với giá trị pixel nằm trong đoạn $[0, 1]$. Mỗi ảnh tương ứng với ảnh của một trong 10 loại trang phục.\n",
        "\n",
        "Bộ dữ liệu gồm 70000 ảnh đã được gán nhãn, được chia thành hai tập dữ liệu: training gồm 60000 ảnh và testing gồm 10000 còn lại."
      ],
      "metadata": {
        "id": "4hjEXPowXgJ6"
      }
    },
    {
      "cell_type": "code",
      "source": [
        "train_data = datasets.FashionMNIST(root='data', train=True, download=True, transform=ToTensor())\n",
        "test_data  = datasets.FashionMNIST(root='data', train=False, download=True, transform=ToTensor())"
      ],
      "metadata": {
        "id": "_We0aVceyiYl",
        "colab": {
          "base_uri": "https://localhost:8080/"
        },
        "outputId": "ccaf4724-1526-408a-d107-14be0772f364"
      },
      "execution_count": 3,
      "outputs": [
        {
          "output_type": "stream",
          "name": "stdout",
          "text": [
            "Downloading http://fashion-mnist.s3-website.eu-central-1.amazonaws.com/train-images-idx3-ubyte.gz\n",
            "Downloading http://fashion-mnist.s3-website.eu-central-1.amazonaws.com/train-images-idx3-ubyte.gz to data/FashionMNIST/raw/train-images-idx3-ubyte.gz\n"
          ]
        },
        {
          "output_type": "stream",
          "name": "stderr",
          "text": [
            "100%|██████████| 26421880/26421880 [00:12<00:00, 2095497.57it/s]\n"
          ]
        },
        {
          "output_type": "stream",
          "name": "stdout",
          "text": [
            "Extracting data/FashionMNIST/raw/train-images-idx3-ubyte.gz to data/FashionMNIST/raw\n",
            "\n",
            "Downloading http://fashion-mnist.s3-website.eu-central-1.amazonaws.com/train-labels-idx1-ubyte.gz\n",
            "Downloading http://fashion-mnist.s3-website.eu-central-1.amazonaws.com/train-labels-idx1-ubyte.gz to data/FashionMNIST/raw/train-labels-idx1-ubyte.gz\n"
          ]
        },
        {
          "output_type": "stream",
          "name": "stderr",
          "text": [
            "100%|██████████| 29515/29515 [00:00<00:00, 200453.85it/s]\n"
          ]
        },
        {
          "output_type": "stream",
          "name": "stdout",
          "text": [
            "Extracting data/FashionMNIST/raw/train-labels-idx1-ubyte.gz to data/FashionMNIST/raw\n",
            "\n",
            "Downloading http://fashion-mnist.s3-website.eu-central-1.amazonaws.com/t10k-images-idx3-ubyte.gz\n",
            "Downloading http://fashion-mnist.s3-website.eu-central-1.amazonaws.com/t10k-images-idx3-ubyte.gz to data/FashionMNIST/raw/t10k-images-idx3-ubyte.gz\n"
          ]
        },
        {
          "output_type": "stream",
          "name": "stderr",
          "text": [
            "100%|██████████| 4422102/4422102 [00:07<00:00, 561628.99it/s] \n"
          ]
        },
        {
          "output_type": "stream",
          "name": "stdout",
          "text": [
            "Extracting data/FashionMNIST/raw/t10k-images-idx3-ubyte.gz to data/FashionMNIST/raw\n",
            "\n",
            "Downloading http://fashion-mnist.s3-website.eu-central-1.amazonaws.com/t10k-labels-idx1-ubyte.gz\n",
            "Downloading http://fashion-mnist.s3-website.eu-central-1.amazonaws.com/t10k-labels-idx1-ubyte.gz to data/FashionMNIST/raw/t10k-labels-idx1-ubyte.gz\n"
          ]
        },
        {
          "output_type": "stream",
          "name": "stderr",
          "text": [
            "100%|██████████| 5148/5148 [00:00<00:00, 4821857.30it/s]"
          ]
        },
        {
          "output_type": "stream",
          "name": "stdout",
          "text": [
            "Extracting data/FashionMNIST/raw/t10k-labels-idx1-ubyte.gz to data/FashionMNIST/raw\n",
            "\n"
          ]
        },
        {
          "output_type": "stream",
          "name": "stderr",
          "text": [
            "\n"
          ]
        }
      ]
    },
    {
      "cell_type": "code",
      "source": [
        "print(train_data[0][0].shape)\n",
        "print(f\"Train data size = {len(train_data)}\")\n",
        "print(f\"Test  data size = {len(test_data)}\")\n",
        "print(f\"Input size = {train_data[0][0].shape}\")\n",
        "plt.imshow(train_data[1023][0][0,:,:], cmap='gray', vmin=0.0, vmax=1.0)"
      ],
      "metadata": {
        "colab": {
          "base_uri": "https://localhost:8080/",
          "height": 517
        },
        "id": "HZm7Gx9BzJ9v",
        "outputId": "f35f606c-2f14-4320-e58e-dcd6850218d2"
      },
      "execution_count": 4,
      "outputs": [
        {
          "output_type": "stream",
          "name": "stdout",
          "text": [
            "torch.Size([1, 28, 28])\n",
            "Train data size = 60000\n",
            "Test  data size = 10000\n",
            "Input size = torch.Size([1, 28, 28])\n"
          ]
        },
        {
          "output_type": "execute_result",
          "data": {
            "text/plain": [
              "<matplotlib.image.AxesImage at 0x7e6db3bd37f0>"
            ]
          },
          "metadata": {},
          "execution_count": 4
        },
        {
          "output_type": "display_data",
          "data": {
            "text/plain": [
              "<Figure size 640x480 with 1 Axes>"
            ],
            "image/png": "[encoded data removed]"
          },
          "metadata": {}
        }
      ]
    },
    {
      "cell_type": "markdown",
      "source": [
        "## Xây dựng mô hình học\n",
        "\n",
        "Sử dụng mô hình học có tham số, với các tham số được ký hiệu là $\\theta$. Trong bài toán học phân loại này, cần xác định hàm ánh xạ $f_\\theta: \\mathbf{X} ↦ y$, với $\\mathbf{X}$ là ma trận ảnh và $y$ là nhãn ảnh. Để xác định hàm ánh xạ đó, phương pháp học máy này cần xác định, tối ưu tham số $\\theta$ của mô hình. Việc tối ưu đó dựa trên mục tiêu **tối thiểu** giá trị của hàm loss đánh giá khả năng phân loại của mô hình.\n",
        "\n",
        "Với bài toán phân loại, hàm loss phổ biến được dùng là hàm *cross-entropy*, đo mức độ tương quan giữa hai phân phối. Ở đây, hàm $f_\\theta$ với đầu vào là ảnh $\\mathbf{X}$ sẽ cho ra một phân phối đa thức của 10 nhãn, nhãn nào có giá trị xác suất cao nhất sẽ là đầu ra $y$ của mô hình. Ví dụ bài toán chỉ yêu cầu phân loại ra 3 nhãn, với đầu vào $\\mathbf{X}$ được gán nhãn là 2, $f_\\theta$ cho ra phân phối $q=[0.2, 0.7, 0.1]$, do $\\mathbf{X}$ được gán nhãn 2 nên phân phối lý tưởng đầu ra là $p=[0, 1, 0]$, khi đó hàm loss sẽ là độ lệch, sai khác giữa hai phân phối $p$ và $q$. Độ đo cross-entroy thực hiện đo thông qua công thức Kullback-Leibler $$D_{KL}(p(X) \\| q(X)) = \\sum_{x \\in \\mathcal{X}}{p(x)\\log\\frac{p(x)}{q(x)}}=\\sum_{i=1}^k{p_i\\log\\frac{p_i}{q_i}}$$\n",
        "\n",
        "Vậy nên, hàm loss ứng với ảnh đầu vào $\\mathbf{X}$ có nhãn $c$ sẽ bằng $\\mathcal{L} = \\log\\dfrac{1}{q_c}$, với $q_c$ là xác suất ảnh có nhãn $c$ trong phân phối đa thức đầu ra của hàm $f_\\theta$.\n",
        "\n",
        "\n",
        "Sử dụng mô hình mạng neural fully-connected đơn giản sử dụng activation function ReLU cho việc phân loại bài toán này."
      ],
      "metadata": {
        "id": "nRgXqlTQZwFd"
      }
    },
    {
      "cell_type": "markdown",
      "source": [
        "#### Xây dựng lớp mô hình mạng\n",
        "\n",
        "Tạo một lớp mô hình kế thừa từ lớp mô hình `nn.Module` từ thư viện PyTorch. Để xây dựng mạng fully-connected đơn giản, layer đầu tiên thực hiện đưa ma trận ảnh về dạng một chuỗi vector. Tiếp theo đó là `num_hidden` layer ẩn có số chiều là `d_hidden` với activation function là ReLU. Sau đó tẩng ẩn cuối cùng là tầng output. Để đầu ra của mô hình mạng là một phân phối đa thức multinomial thì sau tầng output thêm một tầng Softmax để thực hiện chuẩn hóa thành phân phối."
      ],
      "metadata": {
        "id": "Ty5bD0A4lzV2"
      }
    },
    {
      "cell_type": "code",
      "source": [
        "class MyClassify(nn.Module):\n",
        "  def __init__(self, d_in, d_out, num_hidden, d_hidden):\n",
        "    super(MyClassify, self).__init__()\n",
        "\n",
        "    layers = [] # danh sách các layers trong mô hình mạng\n",
        "    layers.append( nn.Flatten() ) # duỗi ma trận ảnh đầu vào thành vector\n",
        "\n",
        "    layers.append( nn.Linear(d_in, d_hidden) ) # nối fully-connected giữa tầng đầu vào với tầng mạng đầu tiên\n",
        "    layers.append( nn.ReLU() ) # activation function ReLU\n",
        "\n",
        "    for i in range(1, num_hidden):\n",
        "      layers.append( nn.Linear(d_hidden, d_hidden) ) # nối fully-connected các tẩng ẩn với nhau\n",
        "      layers.append( nn.ReLU() )\n",
        "\n",
        "    layers.append( nn.Linear(d_hidden, d_out) ) # nối fully-connected giữa tầng ẩn và tầng output cuối\n",
        "    layers.append( nn.Softmax() ) # nối tầng output cuối với một layer softmax để output là một phân phối đa thức multinomial\n",
        "\n",
        "    self.network = nn.Sequential(*layers)\n",
        "\n",
        "  def forward(self, x):\n",
        "    return self.network(x)\n",
        "\n"
      ],
      "metadata": {
        "id": "DL9i2xHcXNyV"
      },
      "execution_count": 5,
      "outputs": []
    },
    {
      "cell_type": "code",
      "source": [
        "device = torch.device(\"cuda:0\" if torch.cuda.is_available() else \"cpu\")\n",
        "print(device)"
      ],
      "metadata": {
        "colab": {
          "base_uri": "https://localhost:8080/"
        },
        "id": "lehtbCgClYfC",
        "outputId": "f125c1c4-c914-451b-df36-74e973cf00bc"
      },
      "execution_count": 6,
      "outputs": [
        {
          "output_type": "stream",
          "name": "stdout",
          "text": [
            "cpu\n"
          ]
        }
      ]
    },
    {
      "cell_type": "markdown",
      "source": [
        "#### Huấn luyện mô hình\n",
        "\n",
        "Sử dụng mô hình mạng neural fully-connected layer với 2 tầng ẩn, mỗi tẩng ẩn là một vector 512 chiều. Phương pháp tối ưu tham số được sử dụng là stochastic gradient descent (SGD) với tham số học `lr` (learning rate) bằng $10^{-3}$.\n",
        "\n",
        "Sau khi được huấn luyện 10 epochs, hiệu năng của mô hình huấn luyện trên tập testing là $> 60\\%$."
      ],
      "metadata": {
        "id": "xlVYK2l_l7MP"
      }
    },
    {
      "cell_type": "code",
      "source": [
        "def training(model, optimizer, loss_fn, data):\n",
        "  for i, (X, y) in enumerate(data):\n",
        "    # Foward\n",
        "    predict = model(X)\n",
        "    target = torch.zeros_like(predict)\n",
        "    target[torch.arange(y.shape[0]),y] = 1\n",
        "\n",
        "    loss = loss_fn(predict, target)\n",
        "\n",
        "    # Back-propagation\n",
        "    optimizer.zero_grad()\n",
        "    loss.backward()\n",
        "    optimizer.step()\n",
        "\n",
        "    if i % 100 == 0:\n",
        "      print(f\"loss = {loss:.5f} [{i:4d}/{len(data)}]\")\n",
        "\n",
        "@torch.no_grad()\n",
        "def evaluation(model, data):\n",
        "  acc = 0\n",
        "  N = 0\n",
        "  for i, (X, y) in enumerate(data):\n",
        "    predict = torch.argmax(model(X), dim=1)\n",
        "    acc += (predict == y).sum().item()\n",
        "    N += len(y)\n",
        "  acc /= N\n",
        "  acc *= 100.0\n",
        "  print(f\"Accuracy = {acc:.2f}%\")"
      ],
      "metadata": {
        "id": "7t7ms7mmpccS"
      },
      "execution_count": 7,
      "outputs": []
    },
    {
      "cell_type": "code",
      "source": [
        "# Hyper-parameters\n",
        "batch_size = 2**7\n",
        "num_epochs = 10\n",
        "lr = 1e-2\n",
        "d_in = 28*28\n",
        "d_out = 10\n",
        "num_hidden = 2\n",
        "d_hidden = 512\n",
        "\n",
        "train = DataLoader(train_data, batch_size=batch_size, shuffle=True) # chia bộ dữ liệu ra thành các batch có kích thước bằng batch_size\n",
        "test = DataLoader(test_data, batch_size=batch_size)\n",
        "\n",
        "model = MyClassify(d_in, d_out, num_hidden, d_hidden).to(device)\n",
        "loss_fn = nn.CrossEntropyLoss() # hàm loss cross-entropy\n",
        "optimizer = torch.optim.SGD(model.parameters(), lr=lr) # tối ưu tham số trong mô hình bằng thuật toán stochastic graident descent (SGD)\n",
        "\n",
        "for epoch in range(num_epochs):\n",
        "  training(model, optimizer, loss_fn, train)\n",
        "  evaluation(model, test)"
      ],
      "metadata": {
        "colab": {
          "base_uri": "https://localhost:8080/"
        },
        "id": "NC6zMXn5l69n",
        "outputId": "242afe7d-3f62-421c-a906-ac807eec66e9"
      },
      "execution_count": 8,
      "outputs": [
        {
          "output_type": "stream",
          "name": "stdout",
          "text": [
            "loss = 2.30347 [   0/469]\n"
          ]
        },
        {
          "output_type": "stream",
          "name": "stderr",
          "text": [
            "/usr/local/lib/python3.10/dist-packages/torch/nn/modules/module.py:1532: UserWarning: Implicit dimension choice for softmax has been deprecated. Change the call to include dim=X as an argument.\n",
            "  return self._call_impl(*args, **kwargs)\n"
          ]
        },
        {
          "output_type": "stream",
          "name": "stdout",
          "text": [
            "loss = 2.30230 [ 100/469]\n",
            "loss = 2.30063 [ 200/469]\n",
            "loss = 2.29824 [ 300/469]\n",
            "loss = 2.29725 [ 400/469]\n",
            "Accuracy = 15.37%\n",
            "loss = 2.29668 [   0/469]\n",
            "loss = 2.29494 [ 100/469]\n",
            "loss = 2.29195 [ 200/469]\n",
            "loss = 2.28886 [ 300/469]\n",
            "loss = 2.28535 [ 400/469]\n",
            "Accuracy = 22.51%\n",
            "loss = 2.28204 [   0/469]\n",
            "loss = 2.27830 [ 100/469]\n",
            "loss = 2.27737 [ 200/469]\n",
            "loss = 2.27229 [ 300/469]\n",
            "loss = 2.26555 [ 400/469]\n",
            "Accuracy = 24.79%\n",
            "loss = 2.25445 [   0/469]\n",
            "loss = 2.24810 [ 100/469]\n",
            "loss = 2.22811 [ 200/469]\n",
            "loss = 2.23684 [ 300/469]\n",
            "loss = 2.19434 [ 400/469]\n",
            "Accuracy = 36.04%\n",
            "loss = 2.12665 [   0/469]\n",
            "loss = 2.18510 [ 100/469]\n",
            "loss = 2.17100 [ 200/469]\n",
            "loss = 2.15438 [ 300/469]\n",
            "loss = 2.10001 [ 400/469]\n",
            "Accuracy = 41.31%\n",
            "loss = 2.14394 [   0/469]\n",
            "loss = 2.07945 [ 100/469]\n",
            "loss = 2.04337 [ 200/469]\n",
            "loss = 2.00164 [ 300/469]\n",
            "loss = 2.02442 [ 400/469]\n",
            "Accuracy = 61.10%\n",
            "loss = 1.97707 [   0/469]\n",
            "loss = 1.99245 [ 100/469]\n",
            "loss = 1.90352 [ 200/469]\n",
            "loss = 1.91700 [ 300/469]\n",
            "loss = 1.87194 [ 400/469]\n",
            "Accuracy = 65.76%\n",
            "loss = 1.85463 [   0/469]\n",
            "loss = 1.84432 [ 100/469]\n",
            "loss = 1.82010 [ 200/469]\n",
            "loss = 1.79145 [ 300/469]\n",
            "loss = 1.88096 [ 400/469]\n",
            "Accuracy = 66.74%\n",
            "loss = 1.87085 [   0/469]\n",
            "loss = 1.83943 [ 100/469]\n",
            "loss = 1.87573 [ 200/469]\n",
            "loss = 1.83104 [ 300/469]\n",
            "loss = 1.82595 [ 400/469]\n",
            "Accuracy = 67.08%\n",
            "loss = 1.85750 [   0/469]\n",
            "loss = 1.78943 [ 100/469]\n",
            "loss = 1.82654 [ 200/469]\n",
            "loss = 1.80051 [ 300/469]\n",
            "loss = 1.79698 [ 400/469]\n",
            "Accuracy = 67.38%\n"
          ]
        }
      ]
    },
    {
      "cell_type": "code",
      "source": [
        "evaluation(model, test)"
      ],
      "metadata": {
        "colab": {
          "base_uri": "https://localhost:8080/"
        },
        "id": "Y1SPGu8tqjTA",
        "outputId": "162384f5-e19f-450e-9a77-f8a5f4352e8c"
      },
      "execution_count": 9,
      "outputs": [
        {
          "output_type": "stream",
          "name": "stdout",
          "text": [
            "Accuracy = 67.38%\n"
          ]
        }
      ]
    },
    {
      "cell_type": "markdown",
      "source": [
        "#### Inference\n",
        "\n",
        "Lấy ngẫu nhiên một ảnh từ tập testing đưa vào cho mô hình đã huấn luyện phân loại ảnh"
      ],
      "metadata": {
        "id": "wVHau1RgzC3X"
      }
    },
    {
      "cell_type": "code",
      "source": [
        "labels_map={\n",
        "    0: 'T-shirt',\n",
        "    1: 'Trouser',\n",
        "    2: 'Pullover',\n",
        "    3: 'Dress',\n",
        "    4: 'Coat',\n",
        "    5: 'Sandal',\n",
        "    6: 'Shirt',\n",
        "    7: 'Sneaker',\n",
        "    8: 'Bag',\n",
        "    9: 'Ankle Boot',\n",
        "    }\n",
        "\n",
        "M = len(test_data)\n",
        "idx = torch.randint(0, M, (1,)).item()\n",
        "X = test_data[idx][0]\n",
        "actual_class = test_data[idx][1]\n",
        "\n",
        "with torch.no_grad():\n",
        "  predict = model(X)\n",
        "  predict_class = torch.argmax(predict).item()\n",
        "\n",
        "print(f\"Predict : {labels_map[predict_class]}\")\n",
        "print(f\"Expected: {labels_map[actual_class]}\")\n",
        "plt.imshow(X[0], cmap='gray', vmin=0., vmax=1.)"
      ],
      "metadata": {
        "colab": {
          "base_uri": "https://localhost:8080/",
          "height": 482
        },
        "id": "gG7zh9pBzFkZ",
        "outputId": "b46d4bf1-c537-4516-b90a-16cc43dc7d5b"
      },
      "execution_count": 10,
      "outputs": [
        {
          "output_type": "stream",
          "name": "stdout",
          "text": [
            "Predict : Dress\n",
            "Expected: Dress\n"
          ]
        },
        {
          "output_type": "execute_result",
          "data": {
            "text/plain": [
              "<matplotlib.image.AxesImage at 0x7e6db1929a80>"
            ]
          },
          "metadata": {},
          "execution_count": 10
        },
        {
          "output_type": "display_data",
          "data": {
            "text/plain": [
              "<Figure size 640x480 with 1 Axes>"
            ],
            "image/png": "[encoded data removed]"
          },
          "metadata": {}
        }
      ]
    }
  ]
}