{
  "nbformat": 4,
  "nbformat_minor": 0,
  "metadata": {
    "colab": {
      "provenance": []
    },
    "kernelspec": {
      "name": "python3",
      "display_name": "Python 3"
    },
    "language_info": {
      "name": "python"
    }
  },
  "cells": [
    {
      "cell_type": "code",
      "execution_count": 1,
      "metadata": {
        "id": "H-ZrtMqNxZ9X"
      },
      "outputs": [],
      "source": [
        "import torch\n",
        "import matplotlib.pyplot as plt\n",
        "from torchvision import datasets\n",
        "from torchvision.transforms import ToTensor\n",
        "from torch import nn\n",
        "from torch.utils.data import DataLoader"
      ]
    },
    {
      "cell_type": "code",
      "source": [
        "print(torch.__version__)\n",
        "print(torch.cuda.is_available())"
      ],
      "metadata": {
        "colab": {
          "base_uri": "https://localhost:8080/"
        },
        "id": "SrtDIo79yHiR",
        "outputId": "7340c4fb-221d-4f3e-8b95-4c714f4760ae"
      },
      "execution_count": 2,
      "outputs": [
        {
          "output_type": "stream",
          "name": "stdout",
          "text": [
            "2.3.0+cu121\n",
            "False\n"
          ]
        }
      ]
    },
    {
      "cell_type": "markdown",
      "source": [
        "## Chuẩn bị dữ liệu\n",
        "\n",
        "Bài toán phân loại ảnh trang phục hàng ngày, sử dụng bộ dữ liệu Fashion MNIST. Bộ dữ liệu này tương tự MNIST gồm các ảnh đen trắng (grayscale) kích thước $28 \\times 28$, với giá trị pixel nằm trong đoạn $[0, 1]$. Mỗi ảnh tương ứng với ảnh của một trong 10 loại trang phục.\n",
        "\n",
        "Bộ dữ liệu gồm 70000 ảnh đã được gán nhãn, được chia thành hai tập dữ liệu: training gồm 60000 ảnh và testing gồm 10000 còn lại."
      ],
      "metadata": {
        "id": "4hjEXPowXgJ6"
      }
    },
    {
      "cell_type": "code",
      "source": [
        "train_data = datasets.FashionMNIST(root='data', train=True, download=True, transform=ToTensor())\n",
        "test_data  = datasets.FashionMNIST(root='data', train=False, download=True, transform=ToTensor())"
      ],
      "metadata": {
        "id": "_We0aVceyiYl",
        "colab": {
          "base_uri": "https://localhost:8080/"
        },
        "outputId": "29ce20a5-af35-4c8f-b128-5767cfdbba9c"
      },
      "execution_count": 3,
      "outputs": [
        {
          "output_type": "stream",
          "name": "stdout",
          "text": [
            "Downloading http://fashion-mnist.s3-website.eu-central-1.amazonaws.com/train-images-idx3-ubyte.gz\n",
            "Downloading http://fashion-mnist.s3-website.eu-central-1.amazonaws.com/train-images-idx3-ubyte.gz to data/FashionMNIST/raw/train-images-idx3-ubyte.gz\n"
          ]
        },
        {
          "output_type": "stream",
          "name": "stderr",
          "text": [
            "100%|██████████| 26421880/26421880 [00:01<00:00, 18193076.47it/s]\n"
          ]
        },
        {
          "output_type": "stream",
          "name": "stdout",
          "text": [
            "Extracting data/FashionMNIST/raw/train-images-idx3-ubyte.gz to data/FashionMNIST/raw\n",
            "\n",
            "Downloading http://fashion-mnist.s3-website.eu-central-1.amazonaws.com/train-labels-idx1-ubyte.gz\n",
            "Downloading http://fashion-mnist.s3-website.eu-central-1.amazonaws.com/train-labels-idx1-ubyte.gz to data/FashionMNIST/raw/train-labels-idx1-ubyte.gz\n"
          ]
        },
        {
          "output_type": "stream",
          "name": "stderr",
          "text": [
            "100%|██████████| 29515/29515 [00:00<00:00, 319441.81it/s]\n"
          ]
        },
        {
          "output_type": "stream",
          "name": "stdout",
          "text": [
            "Extracting data/FashionMNIST/raw/train-labels-idx1-ubyte.gz to data/FashionMNIST/raw\n",
            "\n",
            "Downloading http://fashion-mnist.s3-website.eu-central-1.amazonaws.com/t10k-images-idx3-ubyte.gz\n",
            "Downloading http://fashion-mnist.s3-website.eu-central-1.amazonaws.com/t10k-images-idx3-ubyte.gz to data/FashionMNIST/raw/t10k-images-idx3-ubyte.gz\n"
          ]
        },
        {
          "output_type": "stream",
          "name": "stderr",
          "text": [
            "100%|██████████| 4422102/4422102 [00:00<00:00, 5377327.72it/s]\n"
          ]
        },
        {
          "output_type": "stream",
          "name": "stdout",
          "text": [
            "Extracting data/FashionMNIST/raw/t10k-images-idx3-ubyte.gz to data/FashionMNIST/raw\n",
            "\n",
            "Downloading http://fashion-mnist.s3-website.eu-central-1.amazonaws.com/t10k-labels-idx1-ubyte.gz\n",
            "Downloading http://fashion-mnist.s3-website.eu-central-1.amazonaws.com/t10k-labels-idx1-ubyte.gz to data/FashionMNIST/raw/t10k-labels-idx1-ubyte.gz\n"
          ]
        },
        {
          "output_type": "stream",
          "name": "stderr",
          "text": [
            "100%|██████████| 5148/5148 [00:00<00:00, 5281868.15it/s]"
          ]
        },
        {
          "output_type": "stream",
          "name": "stdout",
          "text": [
            "Extracting data/FashionMNIST/raw/t10k-labels-idx1-ubyte.gz to data/FashionMNIST/raw\n",
            "\n"
          ]
        },
        {
          "output_type": "stream",
          "name": "stderr",
          "text": [
            "\n"
          ]
        }
      ]
    },
    {
      "cell_type": "code",
      "source": [
        "labels_map={\n",
        "    0: 'T-shirt',\n",
        "    1: 'Trouser',\n",
        "    2: 'Pullover',\n",
        "    3: 'Dress',\n",
        "    4: 'Coat',\n",
        "    5: 'Sandal',\n",
        "    6: 'Shirt',\n",
        "    7: 'Sneaker',\n",
        "    8: 'Bag',\n",
        "    9: 'Ankle Boot',\n",
        "    }\n",
        "print(train_data[0][0].shape)\n",
        "print(f\"Train data size = {len(train_data)}\")\n",
        "print(f\"Test  data size = {len(test_data)}\")\n",
        "print(f\"Input size = {train_data[0][0].shape}\")\n",
        "k = torch.randint(0, 1024, (1,)).item()\n",
        "plt.imshow(train_data[k][0][0,:,:], cmap='gray', vmin=0.0, vmax=1.0)\n",
        "plt.title(f\"{labels_map[train_data[k][1]]}\")"
      ],
      "metadata": {
        "colab": {
          "base_uri": "https://localhost:8080/",
          "height": 539
        },
        "id": "HZm7Gx9BzJ9v",
        "outputId": "5e0c0193-d828-4618-c879-ea2f1b7ce423"
      },
      "execution_count": 4,
      "outputs": [
        {
          "output_type": "stream",
          "name": "stdout",
          "text": [
            "torch.Size([1, 28, 28])\n",
            "Train data size = 60000\n",
            "Test  data size = 10000\n",
            "Input size = torch.Size([1, 28, 28])\n"
          ]
        },
        {
          "output_type": "execute_result",
          "data": {
            "text/plain": [
              "Text(0.5, 1.0, 'Coat')"
            ]
          },
          "metadata": {},
          "execution_count": 4
        },
        {
          "output_type": "display_data",
          "data": {
            "text/plain": [
              "<Figure size 640x480 with 1 Axes>"
            ],
            "image/png": "[encoded data removed]"
          },
          "metadata": {}
        }
      ]
    },
    {
      "cell_type": "markdown",
      "source": [
        "## Mô hình mạng Convolutional Neural Network (CNN)\n",
        "\n",
        "Mô hình mạng CNN cơ bản được cầu thành từ những tầng layer sau:\n",
        "* **Convolutional layer** - với đầu vào là ảnh kích thước $H \\times W$ gồm $C$ channel (tensor kích thước $H \\times W \\times C$), convolutional layer thực hiện lọc ảnh đầu vào bằng $K$ bộ lọc kernel (có thể học) kích thước $F \\times F$. Tầng convolutional này giúp trích xuất các đặc trưng cục bộ của ảnh giống với một bộ lọc thông thường, nhưng trong phương pháp học máy thì để thuật toán tối ưu đi tìm bộ lọc thay vì tự đi xây dựng.\n",
        "  * *Padding* - phép padding giúp bao ở ngoài ảnh các giá trị không, cụ thể là ảnh sẽ có kích thước $(H+2P) \\times (W+2P) \\times C$ với $P$ hàng (cột) đầu (cuối) của ảnh đều có giá trị bằng không. Phương pháp này giúp kiểm soát kích thước ảnh đầu ra của tầng convolutional layer.\n",
        "  * *Stridding* - phép stridding cũng là một kỹ thuật giúp kiểm soát kích thước ảnh đầu ra của tầng convolutional. Thông thường, phép lọc bằng kernel sẽ được thực hiện tuần tự nhau trên ảnh. Nếu sử dụng stridding, các bộ lọc sẽ thực hiện cách nhau một đoạn có khoảng cách bằng $S$ (khi thực hiện tuần tự $S=1$)\n",
        "  * *Kích thước ảnh đầu ra* bằng $H' \\times W' \\times K$, trong đó\n",
        "\\begin{aligned}\n",
        "H' &= \\dfrac{H-F+2P}{S}+1 \\\\\n",
        "W' &= \\dfrac{W-F+2P}{S}+1\n",
        "\\end{aligned}\n",
        "  * Ngay sau tầng convolutional sẽ là một tầng activation giúp mô hình mạng phi tuyến với các tham số trong mạng.\n",
        "\n",
        "* **Pooling layer** - (ít được sử dụng ngày nay) là một bộ lọc kernel đặc biệt kích thước $F \\times F$. Thay vì sử dụng phép chập lên ảnh, thì là sử dụng các phép toán đặc biệt như là `max`, `average`, `L2-norm`. Tương tự convolutional layer, kích thước đầu ra cho ảnh đầu vào $H \\times W \\times C$ là $H' \\times W' \\times C$\n",
        "  * $H' = \\dfrac{H-F}{S}+1$\n",
        "  * $W' = \\dfrac{W-F}{S}+1$\n",
        "* **Fully-connected layers** - các tầng là một vector nhiều chiều, mọi neuron của tầng sau đều có kết nối tới mọi neuron ở tầng trước. Để chuyển hóa ảnh đầu ra $H \\times W \\times C$, với $H = W$ sang tầng fully-connected (FC), có thể thông qua một tầng convolutional với $K$ bộ lọc kích thước $F$, trong đó $F = H = W$ với đầu ra có kích thước $1 \\times 1 \\times K$. Đầu ra đó có thể được duỗi ra thành một vector với số chiều là $K$.\n",
        "  * Mỗi neuron ở tầng này tương ứng với một feature đặc trưng cụ thể trong ảnh, được lấy ra từ các phép chập từ các tầng convolutional trước đó.\n",
        "  * Việc thực hiện tiếp theo tương tự với một mạng neural network MLP"
      ],
      "metadata": {
        "id": "nRgXqlTQZwFd"
      }
    },
    {
      "cell_type": "markdown",
      "source": [
        "#### Xây dựng lớp mô hình mạng\n",
        "\n",
        "Mô hình mạng CNN gồm hai tầng convolutional\n",
        "* $K_1 = 64, F_1 = 2, S_1 = 2, P_1=0$\n",
        "* $K_2 = 64, F_2 = 2, S_2 = 2, P_1=0$\n",
        "\n",
        "Chuyển sang tầng fully-connected thông qua tầng convolutional\n",
        "* $K_3 = 128, F_3 = 7, S_3 = 1, P_3 = 0$\n",
        "\n",
        "Tiếp theo đó là 2 tầng ẩn, mỗi tầng có số chiều bằng 128. Cuối cùng là đầu ra output cho qua tầng Softmax để ra phân phối xác suất."
      ],
      "metadata": {
        "id": "Ty5bD0A4lzV2"
      }
    },
    {
      "cell_type": "code",
      "source": [
        "class MyClassify(nn.Module):\n",
        "  def __init__(self):\n",
        "    super(MyClassify, self).__init__()\n",
        "\n",
        "    layers = [] # danh sách các layers trong mô hình mạng\n",
        "\n",
        "    # đầu vào ảnh kích thước 28x28x1\n",
        "    layers.append( nn.Conv2d(in_channels=1,\n",
        "                             out_channels=64,\n",
        "                             kernel_size=2,\n",
        "                             stride=2, padding=0) ) # 32 bộ lọc kernel kích thước F=2, stride S=2, pad P=0\n",
        "    layers.append( nn.ReLU() )\n",
        "    # kích thước hiện tại 14x14x32\n",
        "    layers.append( nn.Conv2d(in_channels=64,\n",
        "                             out_channels=64,\n",
        "                             kernel_size=2,\n",
        "                             stride=2, padding=0) ) # 64 bộ lọc kernel kích thước F=2, stride S=2, pad P=0\n",
        "    layers.append( nn.ReLU() )\n",
        "    # kích thước hiện tại 7x7x64\n",
        "    layers.append( nn.Conv2d(in_channels=64,\n",
        "                             out_channels=128,\n",
        "                             kernel_size=7,\n",
        "                             stride=1, padding=0) ) # 128 bộ lọc kernel kích thước F=7, stride S=1, pad P=0\n",
        "    layers.append( nn.ReLU() )\n",
        "    # kích thước hiện tại 1x1x128\n",
        "    layers.append( nn.Flatten() )\n",
        "    layers.append( nn.Linear(128, 128) )\n",
        "    layers.append( nn.ReLU() )\n",
        "    layers.append( nn.Linear(128, 128) )\n",
        "    layers.append( nn.ReLU() )\n",
        "    layers.append( nn.Linear(128, 10) )\n",
        "\n",
        "    layers.append( nn.Softmax() )\n",
        "\n",
        "    self.network = nn.Sequential(*layers)\n",
        "\n",
        "  def forward(self, x):\n",
        "    return self.network(x)\n",
        "\n"
      ],
      "metadata": {
        "id": "DL9i2xHcXNyV"
      },
      "execution_count": 5,
      "outputs": []
    },
    {
      "cell_type": "code",
      "source": [
        "device = torch.device(\"cuda:0\" if torch.cuda.is_available() else \"cpu\")\n",
        "print(device)"
      ],
      "metadata": {
        "colab": {
          "base_uri": "https://localhost:8080/"
        },
        "id": "lehtbCgClYfC",
        "outputId": "c70879dd-19bc-48f6-a05a-ed8087f4a104"
      },
      "execution_count": 6,
      "outputs": [
        {
          "output_type": "stream",
          "name": "stdout",
          "text": [
            "cpu\n"
          ]
        }
      ]
    },
    {
      "cell_type": "markdown",
      "source": [
        "#### Huấn luyện mô hình\n",
        "\n",
        "Phương pháp tối ưu tham số được sử dụng là stochastic gradient descent (SGD) với tham số học `lr` (learning rate) bằng $0.11$.\n",
        "\n",
        "Sau khi được huấn luyện 10 epochs, hiệu năng của mô hình huấn luyện trên tập testing là $> 80\\%$."
      ],
      "metadata": {
        "id": "xlVYK2l_l7MP"
      }
    },
    {
      "cell_type": "code",
      "source": [
        "def training(model, optimizer, loss_fn, data):\n",
        "  for i, (X, y) in enumerate(data):\n",
        "    # Forward\n",
        "    predict = model(X)\n",
        "    # target = torch.zeros_like(predict)\n",
        "    # target[torch.arange(y.shape[0]),y] = 1\n",
        "\n",
        "    loss = loss_fn(predict, y)\n",
        "\n",
        "    # Back-propagation\n",
        "    optimizer.zero_grad()\n",
        "    loss.backward()\n",
        "    optimizer.step()\n",
        "\n",
        "    if i % 100 == 0:\n",
        "      print(f\"loss = {loss:.5f} [{i:4d}/{len(data)}]\")\n",
        "\n",
        "@torch.no_grad()\n",
        "def evaluation(model, data):\n",
        "  acc = 0\n",
        "  N = 0\n",
        "  for i, (X, y) in enumerate(data):\n",
        "    predict = torch.argmax(model(X), dim=1)\n",
        "    acc += (predict == y).sum().item()\n",
        "    N += len(y)\n",
        "  acc /= N\n",
        "  acc *= 100.0\n",
        "  print(f\"Accuracy = {acc:.2f}%\")"
      ],
      "metadata": {
        "id": "7t7ms7mmpccS"
      },
      "execution_count": 7,
      "outputs": []
    },
    {
      "cell_type": "code",
      "source": [
        "# Hyper-parameters\n",
        "batch_size = 2**6\n",
        "num_epochs = 20\n",
        "lr = 1.1e-1\n",
        "\n",
        "train = DataLoader(train_data, batch_size=batch_size, shuffle=True) # chia bộ dữ liệu ra thành các batch có kích thước bằng batch_size\n",
        "test = DataLoader(test_data, batch_size=batch_size)\n",
        "\n",
        "model = MyClassify().to(device)\n",
        "loss_fn = nn.CrossEntropyLoss() # hàm loss cross-entropy\n",
        "optimizer = torch.optim.SGD(model.parameters(), lr=lr) # tối ưu tham số trong mô hình bằng thuật toán stochastic graident descent (SGD)\n",
        "\n",
        "for epoch in range(num_epochs):\n",
        "  training(model, optimizer, loss_fn, train)\n",
        "  evaluation(model, test)"
      ],
      "metadata": {
        "colab": {
          "base_uri": "https://localhost:8080/"
        },
        "id": "NC6zMXn5l69n",
        "outputId": "01e8dadb-f3e4-46c5-c472-bd0dd266b0a0"
      },
      "execution_count": 8,
      "outputs": [
        {
          "output_type": "stream",
          "name": "stderr",
          "text": [
            "/usr/local/lib/python3.10/dist-packages/torch/nn/modules/module.py:1532: UserWarning: Implicit dimension choice for softmax has been deprecated. Change the call to include dim=X as an argument.\n",
            "  return self._call_impl(*args, **kwargs)\n"
          ]
        },
        {
          "output_type": "stream",
          "name": "stdout",
          "text": [
            "loss = 2.30142 [   0/938]\n",
            "loss = 2.30122 [ 100/938]\n",
            "loss = 2.29977 [ 200/938]\n",
            "loss = 2.30111 [ 300/938]\n",
            "loss = 2.30072 [ 400/938]\n",
            "loss = 2.29772 [ 500/938]\n",
            "loss = 2.28300 [ 600/938]\n",
            "loss = 2.10491 [ 700/938]\n",
            "loss = 1.85286 [ 800/938]\n",
            "loss = 1.89736 [ 900/938]\n",
            "Accuracy = 58.86%\n",
            "loss = 1.82080 [   0/938]\n",
            "loss = 1.90466 [ 100/938]\n",
            "loss = 1.85118 [ 200/938]\n",
            "loss = 1.74298 [ 300/938]\n",
            "loss = 1.77444 [ 400/938]\n",
            "loss = 1.73665 [ 500/938]\n",
            "loss = 1.67400 [ 600/938]\n",
            "loss = 1.79060 [ 700/938]\n",
            "loss = 1.69372 [ 800/938]\n",
            "loss = 1.65202 [ 900/938]\n",
            "Accuracy = 76.34%\n",
            "loss = 1.70730 [   0/938]\n",
            "loss = 1.64436 [ 100/938]\n",
            "loss = 1.71000 [ 200/938]\n",
            "loss = 1.74524 [ 300/938]\n",
            "loss = 1.64095 [ 400/938]\n",
            "loss = 1.63584 [ 500/938]\n",
            "loss = 1.69929 [ 600/938]\n",
            "loss = 1.69479 [ 700/938]\n",
            "loss = 1.65399 [ 800/938]\n",
            "loss = 1.66789 [ 900/938]\n",
            "Accuracy = 77.94%\n",
            "loss = 1.73623 [   0/938]\n",
            "loss = 1.68328 [ 100/938]\n",
            "loss = 1.66100 [ 200/938]\n",
            "loss = 1.66317 [ 300/938]\n",
            "loss = 1.62795 [ 400/938]\n",
            "loss = 1.71578 [ 500/938]\n",
            "loss = 1.71596 [ 600/938]\n",
            "loss = 1.69704 [ 700/938]\n",
            "loss = 1.63567 [ 800/938]\n",
            "loss = 1.61912 [ 900/938]\n",
            "Accuracy = 74.88%\n",
            "loss = 1.59111 [   0/938]\n",
            "loss = 1.70979 [ 100/938]\n",
            "loss = 1.66028 [ 200/938]\n",
            "loss = 1.58822 [ 300/938]\n",
            "loss = 1.64493 [ 400/938]\n",
            "loss = 1.64048 [ 500/938]\n",
            "loss = 1.62182 [ 600/938]\n",
            "loss = 1.65497 [ 700/938]\n",
            "loss = 1.64870 [ 800/938]\n",
            "loss = 1.59277 [ 900/938]\n",
            "Accuracy = 81.94%\n",
            "loss = 1.67407 [   0/938]\n",
            "loss = 1.64891 [ 100/938]\n",
            "loss = 1.58200 [ 200/938]\n",
            "loss = 1.59552 [ 300/938]\n",
            "loss = 1.62380 [ 400/938]\n",
            "loss = 1.62745 [ 500/938]\n",
            "loss = 1.63719 [ 600/938]\n",
            "loss = 1.60375 [ 700/938]\n",
            "loss = 1.64893 [ 800/938]\n",
            "loss = 1.59839 [ 900/938]\n",
            "Accuracy = 81.18%\n",
            "loss = 1.58677 [   0/938]\n",
            "loss = 1.59983 [ 100/938]\n",
            "loss = 1.62206 [ 200/938]\n",
            "loss = 1.63628 [ 300/938]\n",
            "loss = 1.70968 [ 400/938]\n",
            "loss = 1.61565 [ 500/938]\n",
            "loss = 1.53676 [ 600/938]\n",
            "loss = 1.63837 [ 700/938]\n",
            "loss = 1.59794 [ 800/938]\n",
            "loss = 1.60951 [ 900/938]\n",
            "Accuracy = 83.04%\n",
            "loss = 1.62740 [   0/938]\n",
            "loss = 1.53938 [ 100/938]\n",
            "loss = 1.56493 [ 200/938]\n",
            "loss = 1.62398 [ 300/938]\n",
            "loss = 1.59795 [ 400/938]\n",
            "loss = 1.61700 [ 500/938]\n",
            "loss = 1.62235 [ 600/938]\n",
            "loss = 1.66340 [ 700/938]\n",
            "loss = 1.63969 [ 800/938]\n",
            "loss = 1.59735 [ 900/938]\n",
            "Accuracy = 83.22%\n",
            "loss = 1.54806 [   0/938]\n",
            "loss = 1.58706 [ 100/938]\n",
            "loss = 1.61713 [ 200/938]\n",
            "loss = 1.60207 [ 300/938]\n",
            "loss = 1.58242 [ 400/938]\n",
            "loss = 1.60190 [ 500/938]\n",
            "loss = 1.63797 [ 600/938]\n",
            "loss = 1.66587 [ 700/938]\n",
            "loss = 1.58967 [ 800/938]\n",
            "loss = 1.63291 [ 900/938]\n",
            "Accuracy = 83.65%\n",
            "loss = 1.60557 [   0/938]\n",
            "loss = 1.70427 [ 100/938]\n",
            "loss = 1.58058 [ 200/938]\n",
            "loss = 1.61571 [ 300/938]\n",
            "loss = 1.57722 [ 400/938]\n",
            "loss = 1.62485 [ 500/938]\n",
            "loss = 1.55260 [ 600/938]\n",
            "loss = 1.57329 [ 700/938]\n",
            "loss = 1.63080 [ 800/938]\n",
            "loss = 1.57431 [ 900/938]\n",
            "Accuracy = 84.70%\n",
            "loss = 1.64443 [   0/938]\n",
            "loss = 1.62499 [ 100/938]\n",
            "loss = 1.59889 [ 200/938]\n",
            "loss = 1.57767 [ 300/938]\n",
            "loss = 1.59271 [ 400/938]\n",
            "loss = 1.61047 [ 500/938]\n",
            "loss = 1.58167 [ 600/938]\n",
            "loss = 1.57577 [ 700/938]\n",
            "loss = 1.58303 [ 800/938]\n",
            "loss = 1.65334 [ 900/938]\n",
            "Accuracy = 85.73%\n",
            "loss = 1.59079 [   0/938]\n",
            "loss = 1.60759 [ 100/938]\n",
            "loss = 1.56476 [ 200/938]\n",
            "loss = 1.55880 [ 300/938]\n",
            "loss = 1.61728 [ 400/938]\n",
            "loss = 1.59699 [ 500/938]\n",
            "loss = 1.64718 [ 600/938]\n",
            "loss = 1.55637 [ 700/938]\n",
            "loss = 1.56369 [ 800/938]\n",
            "loss = 1.58802 [ 900/938]\n",
            "Accuracy = 85.77%\n",
            "loss = 1.58932 [   0/938]\n",
            "loss = 1.66886 [ 100/938]\n",
            "loss = 1.54712 [ 200/938]\n",
            "loss = 1.66918 [ 300/938]\n",
            "loss = 1.59465 [ 400/938]\n",
            "loss = 1.59453 [ 500/938]\n",
            "loss = 1.63038 [ 600/938]\n",
            "loss = 1.61342 [ 700/938]\n",
            "loss = 1.59012 [ 800/938]\n",
            "loss = 1.57400 [ 900/938]\n",
            "Accuracy = 85.68%\n",
            "loss = 1.57453 [   0/938]\n",
            "loss = 1.61913 [ 100/938]\n",
            "loss = 1.56473 [ 200/938]\n",
            "loss = 1.57448 [ 300/938]\n",
            "loss = 1.62492 [ 400/938]\n",
            "loss = 1.54858 [ 500/938]\n",
            "loss = 1.62514 [ 600/938]\n",
            "loss = 1.63842 [ 700/938]\n",
            "loss = 1.61293 [ 800/938]\n",
            "loss = 1.59909 [ 900/938]\n",
            "Accuracy = 86.48%\n",
            "loss = 1.59740 [   0/938]\n",
            "loss = 1.60058 [ 100/938]\n",
            "loss = 1.54480 [ 200/938]\n",
            "loss = 1.61534 [ 300/938]\n",
            "loss = 1.53667 [ 400/938]\n",
            "loss = 1.60981 [ 500/938]\n",
            "loss = 1.52702 [ 600/938]\n",
            "loss = 1.59642 [ 700/938]\n",
            "loss = 1.63041 [ 800/938]\n",
            "loss = 1.60042 [ 900/938]\n",
            "Accuracy = 87.08%\n",
            "loss = 1.62997 [   0/938]\n",
            "loss = 1.64120 [ 100/938]\n",
            "loss = 1.60203 [ 200/938]\n",
            "loss = 1.54203 [ 300/938]\n",
            "loss = 1.63946 [ 400/938]\n",
            "loss = 1.54864 [ 500/938]\n",
            "loss = 1.61029 [ 600/938]\n",
            "loss = 1.56602 [ 700/938]\n",
            "loss = 1.58248 [ 800/938]\n",
            "loss = 1.54608 [ 900/938]\n",
            "Accuracy = 86.96%\n",
            "loss = 1.58957 [   0/938]\n",
            "loss = 1.60013 [ 100/938]\n",
            "loss = 1.60205 [ 200/938]\n",
            "loss = 1.64226 [ 300/938]\n",
            "loss = 1.60439 [ 400/938]\n",
            "loss = 1.53760 [ 500/938]\n",
            "loss = 1.48925 [ 600/938]\n",
            "loss = 1.57013 [ 700/938]\n",
            "loss = 1.58118 [ 800/938]\n",
            "loss = 1.55396 [ 900/938]\n",
            "Accuracy = 86.90%\n",
            "loss = 1.61744 [   0/938]\n",
            "loss = 1.65083 [ 100/938]\n",
            "loss = 1.55611 [ 200/938]\n",
            "loss = 1.58719 [ 300/938]\n",
            "loss = 1.58659 [ 400/938]\n",
            "loss = 1.55146 [ 500/938]\n",
            "loss = 1.57639 [ 600/938]\n",
            "loss = 1.56711 [ 700/938]\n",
            "loss = 1.58134 [ 800/938]\n",
            "loss = 1.63511 [ 900/938]\n",
            "Accuracy = 85.88%\n",
            "loss = 1.60512 [   0/938]\n",
            "loss = 1.51503 [ 100/938]\n",
            "loss = 1.62652 [ 200/938]\n",
            "loss = 1.54598 [ 300/938]\n",
            "loss = 1.59042 [ 400/938]\n",
            "loss = 1.57902 [ 500/938]\n",
            "loss = 1.55163 [ 600/938]\n",
            "loss = 1.60254 [ 700/938]\n",
            "loss = 1.58640 [ 800/938]\n",
            "loss = 1.60142 [ 900/938]\n",
            "Accuracy = 87.01%\n",
            "loss = 1.61531 [   0/938]\n",
            "loss = 1.57429 [ 100/938]\n",
            "loss = 1.56347 [ 200/938]\n",
            "loss = 1.60651 [ 300/938]\n",
            "loss = 1.58152 [ 400/938]\n",
            "loss = 1.56352 [ 500/938]\n",
            "loss = 1.60984 [ 600/938]\n",
            "loss = 1.57873 [ 700/938]\n",
            "loss = 1.59967 [ 800/938]\n",
            "loss = 1.53821 [ 900/938]\n",
            "Accuracy = 87.15%\n"
          ]
        }
      ]
    },
    {
      "cell_type": "code",
      "source": [
        "evaluation(model, test)"
      ],
      "metadata": {
        "colab": {
          "base_uri": "https://localhost:8080/"
        },
        "id": "Y1SPGu8tqjTA",
        "outputId": "1603263a-7c27-4e56-8be0-3935115cdb4a"
      },
      "execution_count": 9,
      "outputs": [
        {
          "output_type": "stream",
          "name": "stdout",
          "text": [
            "Accuracy = 87.15%\n"
          ]
        }
      ]
    },
    {
      "cell_type": "markdown",
      "source": [
        "#### Inference\n",
        "\n",
        "Lấy ngẫu nhiên một ảnh từ tập testing đưa vào cho mô hình đã huấn luyện phân loại ảnh"
      ],
      "metadata": {
        "id": "wVHau1RgzC3X"
      }
    },
    {
      "cell_type": "code",
      "source": [
        "labels_map={\n",
        "    0: 'T-shirt',\n",
        "    1: 'Trouser',\n",
        "    2: 'Pullover',\n",
        "    3: 'Dress',\n",
        "    4: 'Coat',\n",
        "    5: 'Sandal',\n",
        "    6: 'Shirt',\n",
        "    7: 'Sneaker',\n",
        "    8: 'Bag',\n",
        "    9: 'Ankle Boot',\n",
        "    }\n",
        "\n",
        "M = len(test_data)\n",
        "idx = torch.randint(0, M, (1,)).item()\n",
        "X = test_data[idx][0]\n",
        "actual_class = test_data[idx][1]\n",
        "\n",
        "with torch.no_grad():\n",
        "  predict = model(X.unsqueeze(dim=0))\n",
        "  predict_class = torch.argmax(predict, axis=1).item()\n",
        "\n",
        "print(f\"Predict : {labels_map[predict_class]}\")\n",
        "print(f\"Expected: {labels_map[actual_class]}\")\n",
        "plt.imshow(X[0], cmap='gray', vmin=0., vmax=1.)"
      ],
      "metadata": {
        "colab": {
          "base_uri": "https://localhost:8080/",
          "height": 482
        },
        "id": "gG7zh9pBzFkZ",
        "outputId": "7437af17-fefb-4c9a-93b2-2ac02a02efde"
      },
      "execution_count": 10,
      "outputs": [
        {
          "output_type": "stream",
          "name": "stdout",
          "text": [
            "Predict : Trouser\n",
            "Expected: Trouser\n"
          ]
        },
        {
          "output_type": "execute_result",
          "data": {
            "text/plain": [
              "<matplotlib.image.AxesImage at 0x7f044f41e9b0>"
            ]
          },
          "metadata": {},
          "execution_count": 10
        },
        {
          "output_type": "display_data",
          "data": {
            "text/plain": [
              "<Figure size 640x480 with 1 Axes>"
            ],
            "image/png": "[encoded data removed]"
          },
          "metadata": {}
        }
      ]
    },
    {
      "cell_type": "markdown",
      "source": [
        "#### Visualize\n",
        "\n",
        "Trực quan hóa việc học của mạng CNN cho bộ lọc kernel tại convolutional layer đầu tiên. Thực hiện bằng cách lấy một ảnh ngẫu nhiên và forward pass ảnh đó qua convolutional layer đầu tiên để xem đáp ứng ảnh tương ứng."
      ],
      "metadata": {
        "id": "AsamvoKkN25o"
      }
    },
    {
      "cell_type": "code",
      "source": [
        "print(model)"
      ],
      "metadata": {
        "colab": {
          "base_uri": "https://localhost:8080/"
        },
        "id": "GukEWRCW5JJ1",
        "outputId": "f010e9d2-f534-4403-cf86-412ee30e2d7b"
      },
      "execution_count": 11,
      "outputs": [
        {
          "output_type": "stream",
          "name": "stdout",
          "text": [
            "MyClassify(\n",
            "  (network): Sequential(\n",
            "    (0): Conv2d(1, 64, kernel_size=(2, 2), stride=(2, 2))\n",
            "    (1): ReLU()\n",
            "    (2): Conv2d(64, 64, kernel_size=(2, 2), stride=(2, 2))\n",
            "    (3): ReLU()\n",
            "    (4): Conv2d(64, 128, kernel_size=(7, 7), stride=(1, 1))\n",
            "    (5): ReLU()\n",
            "    (6): Flatten(start_dim=1, end_dim=-1)\n",
            "    (7): Linear(in_features=128, out_features=128, bias=True)\n",
            "    (8): ReLU()\n",
            "    (9): Linear(in_features=128, out_features=128, bias=True)\n",
            "    (10): ReLU()\n",
            "    (11): Linear(in_features=128, out_features=10, bias=True)\n",
            "    (12): Softmax(dim=None)\n",
            "  )\n",
            ")\n"
          ]
        }
      ]
    },
    {
      "cell_type": "code",
      "source": [
        "M = len(test_data)\n",
        "idx = torch.randint(0, M, (1,)).item()\n",
        "X = test_data[idx][0].unsqueeze(dim=0)\n",
        "actual_class = test_data[idx][1]\n",
        "\n",
        "plt.imshow(X.squeeze().detach(), cmap='gray', vmin=0.0, vmax=1.0)\n",
        "plt.axis(\"off\")\n",
        "plt.show()\n",
        "\n",
        "fig, axes = plt.subplots(8, 8, figsize=(8, 8))\n",
        "\n",
        "for i in range(8):\n",
        "  for j in range(8):\n",
        "    W = model.network[0].weight[i*8+j]\n",
        "    X = test_data[idx][0]\n",
        "\n",
        "    conv = nn.Conv2d(in_channels=1, out_channels=64, kernel_size=2, bias=False)\n",
        "    conv.weight.data = nn.Parameter(W.unsqueeze(dim=0))\n",
        "\n",
        "    output = conv(X.unsqueeze(dim=0))\n",
        "    output = torch.maximum(output, torch.zeros_like(output))\n",
        "\n",
        "    axes[i,j].imshow(output.squeeze(0,1).detach(), cmap='gray')\n",
        "    axes[i,j].axis(\"off\")\n",
        "\n",
        "plt.tight_layout()\n",
        "plt.show()\n",
        "# plt.imshow(output.squeeze(0,1).detach(), cmap='gray')"
      ],
      "metadata": {
        "colab": {
          "base_uri": "https://localhost:8080/",
          "height": 1000
        },
        "id": "zu-SDEr15WDX",
        "outputId": "d8797d46-0937-475e-b1d3-5b1820675ec4"
      },
      "execution_count": 12,
      "outputs": [
        {
          "output_type": "display_data",
          "data": {
            "text/plain": [
              "<Figure size 640x480 with 1 Axes>"
            ],
            "image/png": "[encoded data removed]"
          },
          "metadata": {}
        },
        {
          "output_type": "display_data",
          "data": {
            "text/plain": [
              "<Figure size 800x800 with 64 Axes>"
            ],
            "image/png": "[encoded data removed]"
          },
          "metadata": {}
        }
      ]
    }
  ]
}