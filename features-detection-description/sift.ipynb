{
 "cells": [
  {
   "cell_type": "code",
   "execution_count": 1,
   "metadata": {},
   "outputs": [],
   "source": [
    "import cv2 as cv\n",
    "import numpy as np\n",
    "import matplotlib.pyplot as plt"
   ]
  },
  {
   "cell_type": "markdown",
   "metadata": {},
   "source": [
    "## SIFT\n",
    "\n",
    "SIFT là thuật toán xác định các keypoint trong ảnh thỏa mãn tính chất shift-invariant, rotate-invariant, scale-invariant. Đồng thời, thuật toán cũng cung cấp cách thức miêu tả keypoint, hỗ trợ việc ghép cặp keypoint giữa các ảnh với nhau.\n",
    "\n",
    "Thuật toán có thể tóm gọn bao gồm một số các bước sau:\n",
    "1. **Scale-space extrema detection** - \n",
    "2. **Accurate keypoint localization** - \n",
    "3. **Orientation assignment** - \n",
    "4. **Keypoint descriptor** -\n",
    "5. **Keypoint Matching** - "
   ]
  }
 ],
 "metadata": {
  "kernelspec": {
   "display_name": "intern-env",
   "language": "python",
   "name": "python3"
  },
  "language_info": {
   "codemirror_mode": {
    "name": "ipython",
    "version": 3
   },
   "file_extension": ".py",
   "mimetype": "text/x-python",
   "name": "python",
   "nbconvert_exporter": "python",
   "pygments_lexer": "ipython3",
   "version": "3.11.0"
  }
 },
 "nbformat": 4,
 "nbformat_minor": 2
}
